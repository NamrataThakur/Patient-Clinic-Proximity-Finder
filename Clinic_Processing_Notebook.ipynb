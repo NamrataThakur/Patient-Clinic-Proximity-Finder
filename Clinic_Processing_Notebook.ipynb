{
 "cells": [
  {
   "cell_type": "code",
   "execution_count": 1,
   "metadata": {},
   "outputs": [],
   "source": [
    "import numpy as np\n",
    "import pandas as pd \n",
    "import seaborn as sns\n",
    "import matplotlib.pyplot as plt\n",
    "import matplotlib as mpl\n",
    "mpl.use('nbagg')\n",
    "import folium\n",
    "from tqdm import tqdm\n",
    "from sklearn.preprocessing import MaxAbsScaler\n",
    "from sklearn.cluster import KMeans\n",
    "\n",
    "from geopy.geocoders import Nominatim\n",
    "from ratelimiter import RateLimiter"
   ]
  },
  {
   "cell_type": "code",
   "execution_count": 64,
   "metadata": {},
   "outputs": [
    {
     "name": "stdout",
     "output_type": "stream",
     "text": [
      "(100, 7)\n"
     ]
    },
    {
     "data": {
      "text/html": [
       "<div>\n",
       "<style scoped>\n",
       "    .dataframe tbody tr th:only-of-type {\n",
       "        vertical-align: middle;\n",
       "    }\n",
       "\n",
       "    .dataframe tbody tr th {\n",
       "        vertical-align: top;\n",
       "    }\n",
       "\n",
       "    .dataframe thead th {\n",
       "        text-align: right;\n",
       "    }\n",
       "</style>\n",
       "<table border=\"1\" class=\"dataframe\">\n",
       "  <thead>\n",
       "    <tr style=\"text-align: right;\">\n",
       "      <th></th>\n",
       "      <th>Clinic ID</th>\n",
       "      <th>Clinic Name</th>\n",
       "      <th>Clinic Address</th>\n",
       "      <th>Postal Code</th>\n",
       "      <th>FSA</th>\n",
       "      <th>Clinic City</th>\n",
       "      <th>Province</th>\n",
       "    </tr>\n",
       "  </thead>\n",
       "  <tbody>\n",
       "    <tr>\n",
       "      <th>0</th>\n",
       "      <td>1</td>\n",
       "      <td>Clinic 1</td>\n",
       "      <td>8308 114 St Nw Suite 2020</td>\n",
       "      <td>T6G 2V2</td>\n",
       "      <td>T6G</td>\n",
       "      <td>Edmonton</td>\n",
       "      <td>AB</td>\n",
       "    </tr>\n",
       "    <tr>\n",
       "      <th>1</th>\n",
       "      <td>2</td>\n",
       "      <td>Clinic 2</td>\n",
       "      <td>3480 Lawrence Ave E Unit 5</td>\n",
       "      <td>M1H 1A9</td>\n",
       "      <td>M1H</td>\n",
       "      <td>Scarborough</td>\n",
       "      <td>ON</td>\n",
       "    </tr>\n",
       "  </tbody>\n",
       "</table>\n",
       "</div>"
      ],
      "text/plain": [
       "   Clinic ID Clinic Name              Clinic Address Postal Code  FSA  \\\n",
       "0          1    Clinic 1   8308 114 St Nw Suite 2020     T6G 2V2  T6G   \n",
       "1          2    Clinic 2  3480 Lawrence Ave E Unit 5     M1H 1A9  M1H   \n",
       "\n",
       "   Clinic City Province  \n",
       "0     Edmonton       AB  \n",
       "1  Scarborough       ON  "
      ]
     },
     "execution_count": 64,
     "metadata": {},
     "output_type": "execute_result"
    }
   ],
   "source": [
    "clinic_df = pd.read_csv(r'C:\\Users\\NamrataT\\Desktop\\Project\\Patient_Clinic_Proximity\\clinics.csv')\n",
    "print(clinic_df.shape)\n",
    "clinic_df.head(2)"
   ]
  },
  {
   "cell_type": "code",
   "execution_count": 16,
   "metadata": {},
   "outputs": [],
   "source": [
    "nominatim_service = Nominatim(user_agent=\"namrata.thakur893@gmail.com\")"
   ]
  },
  {
   "cell_type": "code",
   "execution_count": 65,
   "metadata": {},
   "outputs": [],
   "source": [
    "@RateLimiter(max_calls=10, period=1)\n",
    "def get_geocode_new(address,post_code,fsa,city,prov):\n",
    "\n",
    "    location = nominatim_service.geocode(address)\n",
    "    if location != None:\n",
    "        return location.latitude, location.longitude\n",
    "    else:\n",
    "        post_code_geo = nominatim_service.geocode(post_code)\n",
    "        if post_code_geo != None:\n",
    "            return post_code_geo.latitude, post_code_geo.longitude\n",
    "        else:\n",
    "            fsa_geo = nominatim_service.geocode(fsa)\n",
    "            if fsa_geo != None:\n",
    "                return fsa_geo.latitude, fsa_geo.longitude\n",
    "            else:\n",
    "                city_geo = nominatim_service.geocode(city)\n",
    "                if city_geo != None:\n",
    "                    return city_geo.latitude, city_geo.longitude\n",
    "                else:\n",
    "                    prov_geo = nominatim_service.geocode(prov)\n",
    "                    if prov_geo != None:\n",
    "                        return prov_geo.latitude, prov_geo.longitude"
   ]
  },
  {
   "cell_type": "code",
   "execution_count": 66,
   "metadata": {},
   "outputs": [],
   "source": [
    "clinic_df['Geocode_Feat_Lat'], clinic_df['Geocode_Feat_Long'] = zip(*clinic_df.apply(lambda x: get_geocode_new(x['Clinic Address'], x['Postal Code'], x['FSA'], x['Clinic City'], x['Province']), axis=1))"
   ]
  },
  {
   "cell_type": "code",
   "execution_count": 68,
   "metadata": {},
   "outputs": [
    {
     "data": {
      "text/html": [
       "<div>\n",
       "<style scoped>\n",
       "    .dataframe tbody tr th:only-of-type {\n",
       "        vertical-align: middle;\n",
       "    }\n",
       "\n",
       "    .dataframe tbody tr th {\n",
       "        vertical-align: top;\n",
       "    }\n",
       "\n",
       "    .dataframe thead th {\n",
       "        text-align: right;\n",
       "    }\n",
       "</style>\n",
       "<table border=\"1\" class=\"dataframe\">\n",
       "  <thead>\n",
       "    <tr style=\"text-align: right;\">\n",
       "      <th></th>\n",
       "      <th>Clinic ID</th>\n",
       "      <th>Clinic Name</th>\n",
       "      <th>Clinic Address</th>\n",
       "      <th>Postal Code</th>\n",
       "      <th>FSA</th>\n",
       "      <th>Clinic City</th>\n",
       "      <th>Province</th>\n",
       "      <th>Geocode_Feat_Lat</th>\n",
       "      <th>Geocode_Feat_Long</th>\n",
       "    </tr>\n",
       "  </thead>\n",
       "  <tbody>\n",
       "    <tr>\n",
       "      <th>0</th>\n",
       "      <td>1</td>\n",
       "      <td>Clinic 1</td>\n",
       "      <td>8308 114 St Nw Suite 2020</td>\n",
       "      <td>T6G 2V2</td>\n",
       "      <td>T6G</td>\n",
       "      <td>Edmonton</td>\n",
       "      <td>AB</td>\n",
       "      <td>53.522712</td>\n",
       "      <td>-113.523478</td>\n",
       "    </tr>\n",
       "    <tr>\n",
       "      <th>1</th>\n",
       "      <td>2</td>\n",
       "      <td>Clinic 2</td>\n",
       "      <td>3480 Lawrence Ave E Unit 5</td>\n",
       "      <td>M1H 1A9</td>\n",
       "      <td>M1H</td>\n",
       "      <td>Scarborough</td>\n",
       "      <td>ON</td>\n",
       "      <td>37.260291</td>\n",
       "      <td>-6.932783</td>\n",
       "    </tr>\n",
       "    <tr>\n",
       "      <th>2</th>\n",
       "      <td>3</td>\n",
       "      <td>Clinic 3</td>\n",
       "      <td>4715 8 Ave Se</td>\n",
       "      <td>T2A 3N4</td>\n",
       "      <td>T2A</td>\n",
       "      <td>Calgary</td>\n",
       "      <td>AB</td>\n",
       "      <td>51.044900</td>\n",
       "      <td>-113.967219</td>\n",
       "    </tr>\n",
       "    <tr>\n",
       "      <th>3</th>\n",
       "      <td>4</td>\n",
       "      <td>Clinic 4</td>\n",
       "      <td>234 Dovedale Drive</td>\n",
       "      <td>L4P 0H3</td>\n",
       "      <td>L4P</td>\n",
       "      <td>Keswick</td>\n",
       "      <td>ON</td>\n",
       "      <td>43.881407</td>\n",
       "      <td>-78.926401</td>\n",
       "    </tr>\n",
       "    <tr>\n",
       "      <th>4</th>\n",
       "      <td>5</td>\n",
       "      <td>Clinic 5</td>\n",
       "      <td>3968 Rue Notre-Dame O Etage 2E</td>\n",
       "      <td>H4C 1R1</td>\n",
       "      <td>H4C</td>\n",
       "      <td>Montreal</td>\n",
       "      <td>QC</td>\n",
       "      <td>45.477898</td>\n",
       "      <td>-73.583652</td>\n",
       "    </tr>\n",
       "    <tr>\n",
       "      <th>5</th>\n",
       "      <td>6</td>\n",
       "      <td>Clinic 6</td>\n",
       "      <td>3400 Rue Du Marche Bureau 203</td>\n",
       "      <td>H9B 2Y1</td>\n",
       "      <td>H9B</td>\n",
       "      <td>Dollard-Des-Ormeaux</td>\n",
       "      <td>QC</td>\n",
       "      <td>47.444415</td>\n",
       "      <td>5.590398</td>\n",
       "    </tr>\n",
       "    <tr>\n",
       "      <th>6</th>\n",
       "      <td>7</td>\n",
       "      <td>Clinic 7</td>\n",
       "      <td>1441 29 St Nw</td>\n",
       "      <td>T2N 4J8</td>\n",
       "      <td>T2N</td>\n",
       "      <td>Calgary</td>\n",
       "      <td>AB</td>\n",
       "      <td>51.065033</td>\n",
       "      <td>-114.130437</td>\n",
       "    </tr>\n",
       "    <tr>\n",
       "      <th>7</th>\n",
       "      <td>8</td>\n",
       "      <td>Clinic 8</td>\n",
       "      <td>910 Rue Labelle</td>\n",
       "      <td>J7Z 5M5</td>\n",
       "      <td>J7Z</td>\n",
       "      <td>Saint-Jerome</td>\n",
       "      <td>QC</td>\n",
       "      <td>45.788776</td>\n",
       "      <td>-74.005892</td>\n",
       "    </tr>\n",
       "    <tr>\n",
       "      <th>8</th>\n",
       "      <td>9</td>\n",
       "      <td>Clinic 9</td>\n",
       "      <td>32 Rue De La Reserve</td>\n",
       "      <td>G0T 1K0</td>\n",
       "      <td>G0T</td>\n",
       "      <td>Essipit</td>\n",
       "      <td>QC</td>\n",
       "      <td>48.342951</td>\n",
       "      <td>-69.398543</td>\n",
       "    </tr>\n",
       "    <tr>\n",
       "      <th>9</th>\n",
       "      <td>10</td>\n",
       "      <td>Clinic 10</td>\n",
       "      <td>1615 Boul Jacques-Cartier E Bureau 200</td>\n",
       "      <td>J4M 2X1</td>\n",
       "      <td>J4M</td>\n",
       "      <td>Longueuil</td>\n",
       "      <td>QC</td>\n",
       "      <td>45.517238</td>\n",
       "      <td>-73.446747</td>\n",
       "    </tr>\n",
       "    <tr>\n",
       "      <th>10</th>\n",
       "      <td>11</td>\n",
       "      <td>Clinic 11</td>\n",
       "      <td>66 Rue Sainte-Catherine E</td>\n",
       "      <td>H2X 1K6</td>\n",
       "      <td>H2X</td>\n",
       "      <td>Montreal</td>\n",
       "      <td>QC</td>\n",
       "      <td>45.644205</td>\n",
       "      <td>-73.503749</td>\n",
       "    </tr>\n",
       "    <tr>\n",
       "      <th>11</th>\n",
       "      <td>12</td>\n",
       "      <td>Clinic 12</td>\n",
       "      <td>345 Rumsey Rd</td>\n",
       "      <td>M4G 1R7</td>\n",
       "      <td>M4G</td>\n",
       "      <td>Toronto</td>\n",
       "      <td>ON</td>\n",
       "      <td>43.718796</td>\n",
       "      <td>-79.371666</td>\n",
       "    </tr>\n",
       "    <tr>\n",
       "      <th>12</th>\n",
       "      <td>13</td>\n",
       "      <td>Clinic 13</td>\n",
       "      <td>3713 Kensington Ave</td>\n",
       "      <td>V5B 0A7</td>\n",
       "      <td>V5B</td>\n",
       "      <td>Burnaby</td>\n",
       "      <td>BC</td>\n",
       "      <td>49.251301</td>\n",
       "      <td>-122.967483</td>\n",
       "    </tr>\n",
       "    <tr>\n",
       "      <th>13</th>\n",
       "      <td>14</td>\n",
       "      <td>Clinic 14</td>\n",
       "      <td>409 Tache Ave Room L1019</td>\n",
       "      <td>R2H 2A6</td>\n",
       "      <td>R2H</td>\n",
       "      <td>Winnipeg</td>\n",
       "      <td>MB</td>\n",
       "      <td>49.895537</td>\n",
       "      <td>-97.138458</td>\n",
       "    </tr>\n",
       "    <tr>\n",
       "      <th>14</th>\n",
       "      <td>15</td>\n",
       "      <td>Clinic 15</td>\n",
       "      <td>85 The East Mall</td>\n",
       "      <td>M8Z 5W4</td>\n",
       "      <td>M8Z</td>\n",
       "      <td>Etobicoke</td>\n",
       "      <td>ON</td>\n",
       "      <td>43.619868</td>\n",
       "      <td>-79.548599</td>\n",
       "    </tr>\n",
       "    <tr>\n",
       "      <th>15</th>\n",
       "      <td>16</td>\n",
       "      <td>Clinic 16</td>\n",
       "      <td>790 Bay St Suite 108</td>\n",
       "      <td>M5G 1N8</td>\n",
       "      <td>M5G</td>\n",
       "      <td>Toronto</td>\n",
       "      <td>ON</td>\n",
       "      <td>43.653482</td>\n",
       "      <td>-79.383935</td>\n",
       "    </tr>\n",
       "    <tr>\n",
       "      <th>16</th>\n",
       "      <td>17</td>\n",
       "      <td>Clinic 17</td>\n",
       "      <td>1221 Lakeshore Rd Suite 103</td>\n",
       "      <td>L7S 0A1</td>\n",
       "      <td>L7S</td>\n",
       "      <td>Burlington</td>\n",
       "      <td>ON</td>\n",
       "      <td>-8.940138</td>\n",
       "      <td>13.159368</td>\n",
       "    </tr>\n",
       "    <tr>\n",
       "      <th>17</th>\n",
       "      <td>18</td>\n",
       "      <td>Clinic 18</td>\n",
       "      <td>333 Lakeshore Rd W</td>\n",
       "      <td>L5H 1G9</td>\n",
       "      <td>L5H</td>\n",
       "      <td>Mississauga</td>\n",
       "      <td>ON</td>\n",
       "      <td>43.543146</td>\n",
       "      <td>-79.594651</td>\n",
       "    </tr>\n",
       "    <tr>\n",
       "      <th>18</th>\n",
       "      <td>19</td>\n",
       "      <td>Clinic 19</td>\n",
       "      <td>1811 St Joseph Blvd</td>\n",
       "      <td>K1C 7C6</td>\n",
       "      <td>K1C</td>\n",
       "      <td>Orleans</td>\n",
       "      <td>ON</td>\n",
       "      <td>45.461913</td>\n",
       "      <td>-75.546954</td>\n",
       "    </tr>\n",
       "    <tr>\n",
       "      <th>19</th>\n",
       "      <td>20</td>\n",
       "      <td>Clinic 20</td>\n",
       "      <td>76 Stuart St</td>\n",
       "      <td>K7L 2V7</td>\n",
       "      <td>K7L</td>\n",
       "      <td>Kingston</td>\n",
       "      <td>ON</td>\n",
       "      <td>42.412195</td>\n",
       "      <td>-71.059483</td>\n",
       "    </tr>\n",
       "  </tbody>\n",
       "</table>\n",
       "</div>"
      ],
      "text/plain": [
       "    Clinic ID Clinic Name                          Clinic Address Postal Code  \\\n",
       "0           1    Clinic 1               8308 114 St Nw Suite 2020     T6G 2V2   \n",
       "1           2    Clinic 2              3480 Lawrence Ave E Unit 5     M1H 1A9   \n",
       "2           3    Clinic 3                           4715 8 Ave Se     T2A 3N4   \n",
       "3           4    Clinic 4                      234 Dovedale Drive     L4P 0H3   \n",
       "4           5    Clinic 5          3968 Rue Notre-Dame O Etage 2E     H4C 1R1   \n",
       "5           6    Clinic 6           3400 Rue Du Marche Bureau 203     H9B 2Y1   \n",
       "6           7    Clinic 7                           1441 29 St Nw     T2N 4J8   \n",
       "7           8    Clinic 8                         910 Rue Labelle     J7Z 5M5   \n",
       "8           9    Clinic 9                    32 Rue De La Reserve     G0T 1K0   \n",
       "9          10   Clinic 10  1615 Boul Jacques-Cartier E Bureau 200     J4M 2X1   \n",
       "10         11   Clinic 11               66 Rue Sainte-Catherine E     H2X 1K6   \n",
       "11         12   Clinic 12                           345 Rumsey Rd     M4G 1R7   \n",
       "12         13   Clinic 13                     3713 Kensington Ave     V5B 0A7   \n",
       "13         14   Clinic 14                409 Tache Ave Room L1019     R2H 2A6   \n",
       "14         15   Clinic 15                        85 The East Mall     M8Z 5W4   \n",
       "15         16   Clinic 16                    790 Bay St Suite 108     M5G 1N8   \n",
       "16         17   Clinic 17             1221 Lakeshore Rd Suite 103     L7S 0A1   \n",
       "17         18   Clinic 18                      333 Lakeshore Rd W     L5H 1G9   \n",
       "18         19   Clinic 19                     1811 St Joseph Blvd     K1C 7C6   \n",
       "19         20   Clinic 20                            76 Stuart St     K7L 2V7   \n",
       "\n",
       "    FSA          Clinic City Province  Geocode_Feat_Lat  Geocode_Feat_Long  \n",
       "0   T6G             Edmonton       AB         53.522712        -113.523478  \n",
       "1   M1H          Scarborough       ON         37.260291          -6.932783  \n",
       "2   T2A              Calgary       AB         51.044900        -113.967219  \n",
       "3   L4P              Keswick       ON         43.881407         -78.926401  \n",
       "4   H4C             Montreal       QC         45.477898         -73.583652  \n",
       "5   H9B  Dollard-Des-Ormeaux       QC         47.444415           5.590398  \n",
       "6   T2N              Calgary       AB         51.065033        -114.130437  \n",
       "7   J7Z         Saint-Jerome       QC         45.788776         -74.005892  \n",
       "8   G0T              Essipit       QC         48.342951         -69.398543  \n",
       "9   J4M            Longueuil       QC         45.517238         -73.446747  \n",
       "10  H2X             Montreal       QC         45.644205         -73.503749  \n",
       "11  M4G              Toronto       ON         43.718796         -79.371666  \n",
       "12  V5B              Burnaby       BC         49.251301        -122.967483  \n",
       "13  R2H             Winnipeg       MB         49.895537         -97.138458  \n",
       "14  M8Z            Etobicoke       ON         43.619868         -79.548599  \n",
       "15  M5G              Toronto       ON         43.653482         -79.383935  \n",
       "16  L7S           Burlington       ON         -8.940138          13.159368  \n",
       "17  L5H          Mississauga       ON         43.543146         -79.594651  \n",
       "18  K1C              Orleans       ON         45.461913         -75.546954  \n",
       "19  K7L             Kingston       ON         42.412195         -71.059483  "
      ]
     },
     "execution_count": 68,
     "metadata": {},
     "output_type": "execute_result"
    }
   ],
   "source": [
    "clinic_df.head(20)"
   ]
  },
  {
   "cell_type": "markdown",
   "metadata": {},
   "source": [
    "Some of the Latitude and Longitude values that we got using geopy() are not correct. We are concluding this because all the clinics' locations are in Canada but for some clinics the corresponding Latitude and Longitude values are outside of the country. The error maybe because geopy() is confusing that location with some other. So we have to manually clean those values."
   ]
  },
  {
   "cell_type": "markdown",
   "metadata": {},
   "source": [
    "Example : Scarborough (Clinic City for Clinic_ID = 2). Scarborough as a town is present both in Canada (Ontario Province) as well as in North Yorkshire, England."
   ]
  },
  {
   "cell_type": "code",
   "execution_count": 122,
   "metadata": {},
   "outputs": [
    {
     "name": "stderr",
     "output_type": "stream",
     "text": [
      "C:\\Users\\NamrataT\\Anaconda3\\lib\\site-packages\\ipykernel_launcher.py:1: SettingWithCopyWarning: \n",
      "A value is trying to be set on a copy of a slice from a DataFrame\n",
      "\n",
      "See the caveats in the documentation: http://pandas.pydata.org/pandas-docs/stable/indexing.html#indexing-view-versus-copy\n",
      "  \"\"\"Entry point for launching an IPython kernel.\n",
      "C:\\Users\\NamrataT\\Anaconda3\\lib\\site-packages\\ipykernel_launcher.py:2: SettingWithCopyWarning: \n",
      "A value is trying to be set on a copy of a slice from a DataFrame\n",
      "\n",
      "See the caveats in the documentation: http://pandas.pydata.org/pandas-docs/stable/indexing.html#indexing-view-versus-copy\n",
      "  \n",
      "C:\\Users\\NamrataT\\Anaconda3\\lib\\site-packages\\ipykernel_launcher.py:3: SettingWithCopyWarning: \n",
      "A value is trying to be set on a copy of a slice from a DataFrame\n",
      "\n",
      "See the caveats in the documentation: http://pandas.pydata.org/pandas-docs/stable/indexing.html#indexing-view-versus-copy\n",
      "  This is separate from the ipykernel package so we can avoid doing imports until\n",
      "C:\\Users\\NamrataT\\Anaconda3\\lib\\site-packages\\ipykernel_launcher.py:4: SettingWithCopyWarning: \n",
      "A value is trying to be set on a copy of a slice from a DataFrame\n",
      "\n",
      "See the caveats in the documentation: http://pandas.pydata.org/pandas-docs/stable/indexing.html#indexing-view-versus-copy\n",
      "  after removing the cwd from sys.path.\n",
      "C:\\Users\\NamrataT\\Anaconda3\\lib\\site-packages\\ipykernel_launcher.py:6: SettingWithCopyWarning: \n",
      "A value is trying to be set on a copy of a slice from a DataFrame\n",
      "\n",
      "See the caveats in the documentation: http://pandas.pydata.org/pandas-docs/stable/indexing.html#indexing-view-versus-copy\n",
      "  \n",
      "C:\\Users\\NamrataT\\Anaconda3\\lib\\site-packages\\ipykernel_launcher.py:7: SettingWithCopyWarning: \n",
      "A value is trying to be set on a copy of a slice from a DataFrame\n",
      "\n",
      "See the caveats in the documentation: http://pandas.pydata.org/pandas-docs/stable/indexing.html#indexing-view-versus-copy\n",
      "  import sys\n",
      "C:\\Users\\NamrataT\\Anaconda3\\lib\\site-packages\\ipykernel_launcher.py:8: SettingWithCopyWarning: \n",
      "A value is trying to be set on a copy of a slice from a DataFrame\n",
      "\n",
      "See the caveats in the documentation: http://pandas.pydata.org/pandas-docs/stable/indexing.html#indexing-view-versus-copy\n",
      "  \n",
      "C:\\Users\\NamrataT\\Anaconda3\\lib\\site-packages\\ipykernel_launcher.py:9: SettingWithCopyWarning: \n",
      "A value is trying to be set on a copy of a slice from a DataFrame\n",
      "\n",
      "See the caveats in the documentation: http://pandas.pydata.org/pandas-docs/stable/indexing.html#indexing-view-versus-copy\n",
      "  if __name__ == '__main__':\n",
      "C:\\Users\\NamrataT\\Anaconda3\\lib\\site-packages\\ipykernel_launcher.py:10: SettingWithCopyWarning: \n",
      "A value is trying to be set on a copy of a slice from a DataFrame\n",
      "\n",
      "See the caveats in the documentation: http://pandas.pydata.org/pandas-docs/stable/indexing.html#indexing-view-versus-copy\n",
      "  # Remove the CWD from sys.path while we load stuff.\n",
      "C:\\Users\\NamrataT\\Anaconda3\\lib\\site-packages\\ipykernel_launcher.py:12: SettingWithCopyWarning: \n",
      "A value is trying to be set on a copy of a slice from a DataFrame\n",
      "\n",
      "See the caveats in the documentation: http://pandas.pydata.org/pandas-docs/stable/indexing.html#indexing-view-versus-copy\n",
      "  if sys.path[0] == '':\n",
      "C:\\Users\\NamrataT\\Anaconda3\\lib\\site-packages\\ipykernel_launcher.py:13: SettingWithCopyWarning: \n",
      "A value is trying to be set on a copy of a slice from a DataFrame\n",
      "\n",
      "See the caveats in the documentation: http://pandas.pydata.org/pandas-docs/stable/indexing.html#indexing-view-versus-copy\n",
      "  del sys.path[0]\n",
      "C:\\Users\\NamrataT\\Anaconda3\\lib\\site-packages\\ipykernel_launcher.py:15: SettingWithCopyWarning: \n",
      "A value is trying to be set on a copy of a slice from a DataFrame\n",
      "\n",
      "See the caveats in the documentation: http://pandas.pydata.org/pandas-docs/stable/indexing.html#indexing-view-versus-copy\n",
      "  from ipykernel import kernelapp as app\n",
      "C:\\Users\\NamrataT\\Anaconda3\\lib\\site-packages\\ipykernel_launcher.py:16: SettingWithCopyWarning: \n",
      "A value is trying to be set on a copy of a slice from a DataFrame\n",
      "\n",
      "See the caveats in the documentation: http://pandas.pydata.org/pandas-docs/stable/indexing.html#indexing-view-versus-copy\n",
      "  app.launch_new_instance()\n"
     ]
    }
   ],
   "source": [
    "clinic_df['Geocode_Feat_Long'][1] = '-60.73525'\n",
    "clinic_df['Geocode_Feat_Long'][5] = '-73.816666'\n",
    "clinic_df['Geocode_Feat_Long'][16] = '-79.83713'\n",
    "clinic_df['Geocode_Feat_Lat'][16] = '43.38621'\n",
    "\n",
    "clinic_df['Geocode_Feat_Long'][24] = '-80.4230'\n",
    "clinic_df['Geocode_Feat_Long'][31] = '-63.57291'\n",
    "clinic_df['Geocode_Feat_Long'][52] = '-113.323975'\n",
    "clinic_df['Geocode_Feat_Long'][64] = '-89.25018'\n",
    "clinic_df['Geocode_Feat_Long'][77] = '-77.38277'\n",
    "\n",
    "clinic_df['Geocode_Feat_Long'][89] = '-79.233238'\n",
    "clinic_df['Geocode_Feat_Long'][95] = '-75.69812'\n",
    "\n",
    "clinic_df['Geocode_Feat_Long'][99] = '-81.23304'\n",
    "clinic_df['Geocode_Feat_Lat'][99] = '42.98339'\n",
    "\n",
    "clinic_df['Geocode_Feat_Long'][94] = '-80.99001'\n",
    "clinic_df['Geocode_Feat_Lat'][94] = '46.49'\n",
    "\n",
    "clinic_df['Geocode_Feat_Long'][97] = '-79.766670'\n",
    "\n",
    "clinic_df['Geocode_Feat_Long'][51] = '-106.647034'\n",
    "clinic_df['Geocode_Feat_Lat'][51] = '52.146973'"
   ]
  },
  {
   "cell_type": "code",
   "execution_count": 220,
   "metadata": {},
   "outputs": [
    {
     "data": {
      "text/plain": [
       "-60.73525"
      ]
     },
     "execution_count": 220,
     "metadata": {},
     "output_type": "execute_result"
    }
   ],
   "source": [
    "mino = clinic_df['Geocode_Feat_Long'].max()\n",
    "mino"
   ]
  },
  {
   "cell_type": "code",
   "execution_count": 221,
   "metadata": {},
   "outputs": [
    {
     "data": {
      "text/plain": [
       "(100, 2)"
      ]
     },
     "execution_count": 221,
     "metadata": {},
     "output_type": "execute_result"
    }
   ],
   "source": [
    "geocode_df = clinic_df[['Geocode_Feat_Lat','Geocode_Feat_Long']].values\n",
    "geocode_df.shape"
   ]
  },
  {
   "cell_type": "code",
   "execution_count": 222,
   "metadata": {},
   "outputs": [
    {
     "name": "stderr",
     "output_type": "stream",
     "text": [
      "100%|████████████████████████████████████████████████████████████████████████████████████████████████████████████████████████████████| 10/10 [00:00<00:00, 19.87it/s]\n"
     ]
    }
   ],
   "source": [
    "train_inertia = []\n",
    "clusters = 10\n",
    "\n",
    "for i in tqdm(range(1,clusters+1)):\n",
    "    km = KMeans(n_clusters = i, random_state=0)\n",
    "    \n",
    "    km.fit(geocode_df)\n",
    "    train_inertia.append(km.inertia_)"
   ]
  },
  {
   "cell_type": "code",
   "execution_count": 223,
   "metadata": {},
   "outputs": [
    {
     "data": {
      "image/png": "[encoded data removed]",
      "text/plain": [
       "<Figure size 576x396 with 1 Axes>"
      ]
     },
     "metadata": {},
     "output_type": "display_data"
    }
   ],
   "source": [
    "# Plotting Inertia_ against Number of CLusters\n",
    "plt.plot(range(1,clusters+1),train_inertia)\n",
    "plt.title(\"INERTIA PLOTS\")\n",
    "plt.xlabel('Hyper-parameter Cluster Number')\n",
    "plt.ylabel('Inertia Value')\n",
    "plt.show()"
   ]
  },
  {
   "cell_type": "code",
   "execution_count": 224,
   "metadata": {},
   "outputs": [
    {
     "data": {
      "image/png": "[encoded data removed]",
      "text/plain": [
       "<Figure size 576x396 with 2 Axes>"
      ]
     },
     "metadata": {},
     "output_type": "display_data"
    },
    {
     "data": {
      "text/plain": [
       "<matplotlib.axes._subplots.AxesSubplot at 0x1ab6c6e0470>"
      ]
     },
     "execution_count": 224,
     "metadata": {},
     "output_type": "execute_result"
    }
   ],
   "source": [
    "from yellowbrick.cluster import KElbowVisualizer\n",
    "model = KMeans()\n",
    "# k is range of number of clusters.\n",
    "visualizer = KElbowVisualizer(model, k=(1,10), timings= True)\n",
    "visualizer.fit(geocode_df)        # Fit data to visualizer\n",
    "visualizer.show() "
   ]
  },
  {
   "cell_type": "code",
   "execution_count": 280,
   "metadata": {},
   "outputs": [
    {
     "name": "stdout",
     "output_type": "stream",
     "text": [
      "Best Inertia :  4324.9377957974575\n",
      "Cluster Labels : [0 1 0 1 1 1 0 1 1 1 1 1 0 0 1 1 1 1 1 1 1 1 1 1 1 1 1 1 1 1 1 1 1 1 1 1 1\n",
      " 1 0 0 0 0 0 0 0 0 0 0 0 0 0 0 0 0 1 1 0 0 0 0 0 0 0 1 1 0 0 0 1 1 0 0 0 0\n",
      " 0 0 0 1 0 0 1 0 1 1 0 1 0 0 1 1 0 1 0 1 1 1 0 1 1 1]\n"
     ]
    }
   ],
   "source": [
    "km_test = KMeans(n_clusters = 2, random_state=0)   \n",
    "km_test.fit(geocode_df)\n",
    "print('Best Inertia : ',km_test.inertia_)    \n",
    "print('Cluster Labels :',km_test.labels_)"
   ]
  },
  {
   "cell_type": "code",
   "execution_count": 281,
   "metadata": {},
   "outputs": [],
   "source": [
    "labels = km_test.labels_\n",
    "clinic_df['Cluster_ID'] = labels"
   ]
  },
  {
   "cell_type": "code",
   "execution_count": 283,
   "metadata": {},
   "outputs": [
    {
     "name": "stdout",
     "output_type": "stream",
     "text": [
      "Cluster Centres for 2 clusters : \n",
      " [[  50.67612849 -114.49137933]\n",
      " [  44.99093047  -77.85342452]]\n"
     ]
    }
   ],
   "source": [
    "cluster_centers = km_test.cluster_centers_\n",
    "print('Cluster Centres for 2 clusters : \\n',cluster_centers)"
   ]
  },
  {
   "cell_type": "code",
   "execution_count": 284,
   "metadata": {},
   "outputs": [
    {
     "name": "stdout",
     "output_type": "stream",
     "text": [
      "Silhouette Score For 2 Clusters :  0.8020886436917718\n"
     ]
    }
   ],
   "source": [
    "from sklearn import metrics\n",
    "silhouette_score_cluster2 = metrics.silhouette_score(geocode_df,labels)\n",
    "print('Silhouette Score For 2 Clusters : ',silhouette_score_cluster2)"
   ]
  },
  {
   "cell_type": "code",
   "execution_count": 235,
   "metadata": {},
   "outputs": [],
   "source": [
    "def assign_centroids_2(cluster_id):\n",
    "    if cluster_id == 0:\n",
    "        return cluster_centers[0]\n",
    "    else:\n",
    "        return cluster_centers[1]"
   ]
  },
  {
   "cell_type": "code",
   "execution_count": null,
   "metadata": {},
   "outputs": [],
   "source": [
    "clinic_df['Cluster_Geolocation'] = clinic_df['Cluster_ID'].apply(assign_centroids_2)"
   ]
  },
  {
   "cell_type": "markdown",
   "metadata": {},
   "source": [
    "##### Two Cluster Visualisation:"
   ]
  },
  {
   "cell_type": "code",
   "execution_count": 238,
   "metadata": {},
   "outputs": [
    {
     "data": {
      "text/html": [
       "<div style=\"width:100%;\"><div style=\"position:relative;width:100%;height:0;padding-bottom:60%;\"><span style=\"color:#565656\">Make this Notebook Trusted to load map: File -> Trust Notebook</span><iframe src=\"about:blank\" style=\"position:absolute;width:100%;height:100%;left:0;top:0;border:none !important;\" data-html=%3C%21DOCTYPE%20html%3E%0A%3Chead%3E%20%20%20%20%0A%20%20%20%20%3Cmeta%20http-equiv%3D%22content-type%22%20content%3D%22text/html%3B%20charset%3DUTF-8%22%20/%3E%0A%20%20%20%20%0A%20%20%20%20%20%20%20%20%3Cscript%3E%0A%20%20%20%20%20%20%20%20%20%20%20%20L_NO_TOUCH%20%3D%20false%3B%0A%20%20%20%20%20%20%20%20%20%20%20%20L_DISABLE_3D%20%3D%20false%3B%0A%20%20%20%20%20%20%20%20%3C/script%3E%0A%20%20%20%20%0A%20%20%20%20%3Cstyle%3Ehtml%2C%20body%20%7Bwidth%3A%20100%25%3Bheight%3A%20100%25%3Bmargin%3A%200%3Bpadding%3A%200%3B%7D%3C/style%3E%0A%20%20%20%20%3Cstyle%3E%23map%20%7Bposition%3Aabsolute%3Btop%3A0%3Bbottom%3A0%3Bright%3A0%3Bleft%3A0%3B%7D%3C/style%3E%0A%20%20%20%20%3Cscript%20src%3D%22https%3A//cdn.jsdelivr.net/npm/leaflet%401.6.0/dist/leaflet.js%22%3E%3C/script%3E%0A%20%20%20%20%3Cscript%20src%3D%22https%3A//code.jquery.com/jquery-1.12.4.min.js%22%3E%3C/script%3E%0A%20%20%20%20%3Cscript%20src%3D%22https%3A//maxcdn.bootstrapcdn.com/bootstrap/3.2.0/js/bootstrap.min.js%22%3E%3C/script%3E%0A%20%20%20%20%3Cscript%20src%3D%22https%3A//cdnjs.cloudflare.com/ajax/libs/Leaflet.awesome-markers/2.0.2/leaflet.awesome-markers.js%22%3E%3C/script%3E%0A%20%20%20%20%3Clink%20rel%3D%22stylesheet%22%20href%3D%22https%3A//cdn.jsdelivr.net/npm/leaflet%401.6.0/dist/leaflet.css%22/%3E%0A%20%20%20%20%3Clink%20rel%3D%22stylesheet%22%20href%3D%22https%3A//maxcdn.bootstrapcdn.com/bootstrap/3.2.0/css/bootstrap.min.css%22/%3E%0A%20%20%20%20%3Clink%20rel%3D%22stylesheet%22%20href%3D%22https%3A//maxcdn.bootstrapcdn.com/bootstrap/3.2.0/css/bootstrap-theme.min.css%22/%3E%0A%20%20%20%20%3Clink%20rel%3D%22stylesheet%22%20href%3D%22https%3A//maxcdn.bootstrapcdn.com/font-awesome/4.6.3/css/font-awesome.min.css%22/%3E%0A%20%20%20%20%3Clink%20rel%3D%22stylesheet%22%20href%3D%22https%3A//cdnjs.cloudflare.com/ajax/libs/Leaflet.awesome-markers/2.0.2/leaflet.awesome-markers.css%22/%3E%0A%20%20%20%20%3Clink%20rel%3D%22stylesheet%22%20href%3D%22https%3A//cdn.jsdelivr.net/gh/python-visualization/folium/folium/templates/leaflet.awesome.rotate.min.css%22/%3E%0A%20%20%20%20%0A%20%20%20%20%20%20%20%20%20%20%20%20%3Cmeta%20name%3D%22viewport%22%20content%3D%22width%3Ddevice-width%2C%0A%20%20%20%20%20%20%20%20%20%20%20%20%20%20%20%20initial-scale%3D1.0%2C%20maximum-scale%3D1.0%2C%20user-scalable%3Dno%22%20/%3E%0A%20%20%20%20%20%20%20%20%20%20%20%20%3Cstyle%3E%0A%20%20%20%20%20%20%20%20%20%20%20%20%20%20%20%20%23map_fb2f75df4a9647218ffecd01d64410a9%20%7B%0A%20%20%20%20%20%20%20%20%20%20%20%20%20%20%20%20%20%20%20%20position%3A%20relative%3B%0A%20%20%20%20%20%20%20%20%20%20%20%20%20%20%20%20%20%20%20%20width%3A%20100.0%25%3B%0A%20%20%20%20%20%20%20%20%20%20%20%20%20%20%20%20%20%20%20%20height%3A%20100.0%25%3B%0A%20%20%20%20%20%20%20%20%20%20%20%20%20%20%20%20%20%20%20%20left%3A%200.0%25%3B%0A%20%20%20%20%20%20%20%20%20%20%20%20%20%20%20%20%20%20%20%20top%3A%200.0%25%3B%0A%20%20%20%20%20%20%20%20%20%20%20%20%20%20%20%20%7D%0A%20%20%20%20%20%20%20%20%20%20%20%20%3C/style%3E%0A%20%20%20%20%20%20%20%20%0A%3C/head%3E%0A%3Cbody%3E%20%20%20%20%0A%20%20%20%20%0A%20%20%20%20%20%20%20%20%20%20%20%20%3Cdiv%20class%3D%22folium-map%22%20id%3D%22map_fb2f75df4a9647218ffecd01d64410a9%22%20%3E%3C/div%3E%0A%20%20%20%20%20%20%20%20%0A%3C/body%3E%0A%3Cscript%3E%20%20%20%20%0A%20%20%20%20%0A%20%20%20%20%20%20%20%20%20%20%20%20var%20map_fb2f75df4a9647218ffecd01d64410a9%20%3D%20L.map%28%0A%20%20%20%20%20%20%20%20%20%20%20%20%20%20%20%20%22map_fb2f75df4a9647218ffecd01d64410a9%22%2C%0A%20%20%20%20%20%20%20%20%20%20%20%20%20%20%20%20%7B%0A%20%20%20%20%20%20%20%20%20%20%20%20%20%20%20%20%20%20%20%20center%3A%20%5B56.130366%2C%20-106.346771%5D%2C%0A%20%20%20%20%20%20%20%20%20%20%20%20%20%20%20%20%20%20%20%20crs%3A%20L.CRS.EPSG3857%2C%0A%20%20%20%20%20%20%20%20%20%20%20%20%20%20%20%20%20%20%20%20zoom%3A%204%2C%0A%20%20%20%20%20%20%20%20%20%20%20%20%20%20%20%20%20%20%20%20zoomControl%3A%20true%2C%0A%20%20%20%20%20%20%20%20%20%20%20%20%20%20%20%20%20%20%20%20preferCanvas%3A%20false%2C%0A%20%20%20%20%20%20%20%20%20%20%20%20%20%20%20%20%7D%0A%20%20%20%20%20%20%20%20%20%20%20%20%29%3B%0A%0A%20%20%20%20%20%20%20%20%20%20%20%20%0A%0A%20%20%20%20%20%20%20%20%0A%20%20%20%20%0A%20%20%20%20%20%20%20%20%20%20%20%20var%20tile_layer_857c6139accc4371a126970041c1f9fc%20%3D%20L.tileLayer%28%0A%20%20%20%20%20%20%20%20%20%20%20%20%20%20%20%20%22https%3A//stamen-tiles-%7Bs%7D.a.ssl.fastly.net/toner/%7Bz%7D/%7Bx%7D/%7By%7D.png%22%2C%0A%20%20%20%20%20%20%20%20%20%20%20%20%20%20%20%20%7B%22attribution%22%3A%20%22Map%20tiles%20by%20%5Cu003ca%20href%3D%5C%22http%3A//stamen.com%5C%22%5Cu003eStamen%20Design%5Cu003c/a%5Cu003e%2C%20under%20%5Cu003ca%20href%3D%5C%22http%3A//creativecommons.org/licenses/by/3.0%5C%22%5Cu003eCC%20BY%203.0%5Cu003c/a%5Cu003e.%20Data%20by%20%5Cu0026copy%3B%20%5Cu003ca%20href%3D%5C%22http%3A//openstreetmap.org%5C%22%5Cu003eOpenStreetMap%5Cu003c/a%5Cu003e%2C%20under%20%5Cu003ca%20href%3D%5C%22http%3A//www.openstreetmap.org/copyright%5C%22%5Cu003eODbL%5Cu003c/a%5Cu003e.%22%2C%20%22detectRetina%22%3A%20false%2C%20%22maxNativeZoom%22%3A%2018%2C%20%22maxZoom%22%3A%2018%2C%20%22minZoom%22%3A%200%2C%20%22noWrap%22%3A%20false%2C%20%22opacity%22%3A%201%2C%20%22subdomains%22%3A%20%22abc%22%2C%20%22tms%22%3A%20false%7D%0A%20%20%20%20%20%20%20%20%20%20%20%20%29.addTo%28map_fb2f75df4a9647218ffecd01d64410a9%29%3B%0A%20%20%20%20%20%20%20%20%0A%20%20%20%20%0A%20%20%20%20%20%20%20%20%20%20%20%20var%20marker_e28194c541b14d4195ec49b63a7963d0%20%3D%20L.marker%28%0A%20%20%20%20%20%20%20%20%20%20%20%20%20%20%20%20%5B50.676128493113985%2C%20-114.49137933353936%5D%2C%0A%20%20%20%20%20%20%20%20%20%20%20%20%20%20%20%20%7B%7D%0A%20%20%20%20%20%20%20%20%20%20%20%20%29.addTo%28map_fb2f75df4a9647218ffecd01d64410a9%29%3B%0A%20%20%20%20%20%20%20%20%0A%20%20%20%20%0A%20%20%20%20%20%20%20%20var%20popup_8f02fcf534c54bbd8d72a3abcccde65b%20%3D%20L.popup%28%7B%22maxWidth%22%3A%20%22100%25%22%7D%29%3B%0A%0A%20%20%20%20%20%20%20%20%0A%20%20%20%20%20%20%20%20%20%20%20%20var%20html_92bc0229d8d44be59ab1d62aad21c1d0%20%3D%20%24%28%60%3Cdiv%20id%3D%22html_92bc0229d8d44be59ab1d62aad21c1d0%22%20style%3D%22width%3A%20100.0%25%3B%20height%3A%20100.0%25%3B%22%3E50.676128493113985-114.49137933353936%3C/div%3E%60%29%5B0%5D%3B%0A%20%20%20%20%20%20%20%20%20%20%20%20popup_8f02fcf534c54bbd8d72a3abcccde65b.setContent%28html_92bc0229d8d44be59ab1d62aad21c1d0%29%3B%0A%20%20%20%20%20%20%20%20%0A%0A%20%20%20%20%20%20%20%20marker_e28194c541b14d4195ec49b63a7963d0.bindPopup%28popup_8f02fcf534c54bbd8d72a3abcccde65b%29%0A%20%20%20%20%20%20%20%20%3B%0A%0A%20%20%20%20%20%20%20%20%0A%20%20%20%20%0A%20%20%20%20%0A%20%20%20%20%20%20%20%20%20%20%20%20marker_e28194c541b14d4195ec49b63a7963d0.bindTooltip%28%0A%20%20%20%20%20%20%20%20%20%20%20%20%20%20%20%20%60%3Cdiv%3E%0A%20%20%20%20%20%20%20%20%20%20%20%20%20%20%20%20%20%20%20%20%20Click%20Me%21%21%0A%20%20%20%20%20%20%20%20%20%20%20%20%20%20%20%20%20%3C/div%3E%60%2C%0A%20%20%20%20%20%20%20%20%20%20%20%20%20%20%20%20%7B%22sticky%22%3A%20true%7D%0A%20%20%20%20%20%20%20%20%20%20%20%20%29%3B%0A%20%20%20%20%20%20%20%20%0A%20%20%20%20%0A%20%20%20%20%20%20%20%20%20%20%20%20var%20marker_04c5fc2cf2444ce396153094981d4ff3%20%3D%20L.marker%28%0A%20%20%20%20%20%20%20%20%20%20%20%20%20%20%20%20%5B44.99093047418809%2C%20-77.85342451805735%5D%2C%0A%20%20%20%20%20%20%20%20%20%20%20%20%20%20%20%20%7B%7D%0A%20%20%20%20%20%20%20%20%20%20%20%20%29.addTo%28map_fb2f75df4a9647218ffecd01d64410a9%29%3B%0A%20%20%20%20%20%20%20%20%0A%20%20%20%20%0A%20%20%20%20%20%20%20%20var%20popup_0552f457692a4313a2ee2e051ec329d2%20%3D%20L.popup%28%7B%22maxWidth%22%3A%20%22100%25%22%7D%29%3B%0A%0A%20%20%20%20%20%20%20%20%0A%20%20%20%20%20%20%20%20%20%20%20%20var%20html_8356328ac85c42de8aaa93a54d3ce09c%20%3D%20%24%28%60%3Cdiv%20id%3D%22html_8356328ac85c42de8aaa93a54d3ce09c%22%20style%3D%22width%3A%20100.0%25%3B%20height%3A%20100.0%25%3B%22%3E44.99093047418809-77.85342451805735%3C/div%3E%60%29%5B0%5D%3B%0A%20%20%20%20%20%20%20%20%20%20%20%20popup_0552f457692a4313a2ee2e051ec329d2.setContent%28html_8356328ac85c42de8aaa93a54d3ce09c%29%3B%0A%20%20%20%20%20%20%20%20%0A%0A%20%20%20%20%20%20%20%20marker_04c5fc2cf2444ce396153094981d4ff3.bindPopup%28popup_0552f457692a4313a2ee2e051ec329d2%29%0A%20%20%20%20%20%20%20%20%3B%0A%0A%20%20%20%20%20%20%20%20%0A%20%20%20%20%0A%20%20%20%20%0A%20%20%20%20%20%20%20%20%20%20%20%20marker_04c5fc2cf2444ce396153094981d4ff3.bindTooltip%28%0A%20%20%20%20%20%20%20%20%20%20%20%20%20%20%20%20%60%3Cdiv%3E%0A%20%20%20%20%20%20%20%20%20%20%20%20%20%20%20%20%20%20%20%20%20Click%20Me%21%21%0A%20%20%20%20%20%20%20%20%20%20%20%20%20%20%20%20%20%3C/div%3E%60%2C%0A%20%20%20%20%20%20%20%20%20%20%20%20%20%20%20%20%7B%22sticky%22%3A%20true%7D%0A%20%20%20%20%20%20%20%20%20%20%20%20%29%3B%0A%20%20%20%20%20%20%20%20%0A%3C/script%3E onload=\"this.contentDocument.open();this.contentDocument.write(    decodeURIComponent(this.getAttribute('data-html')));this.contentDocument.close();\" allowfullscreen webkitallowfullscreen mozallowfullscreen></iframe></div></div>"
      ],
      "text/plain": [
       "<folium.folium.Map at 0x1ab6c97a128>"
      ]
     },
     "execution_count": 238,
     "metadata": {},
     "output_type": "execute_result"
    }
   ],
   "source": [
    "# Plotting the cluster centers on OSM\n",
    "cluster_centers = km_test.cluster_centers_\n",
    "cluster_len = len(cluster_centers)\n",
    "tooltip = 'Click Me!!'\n",
    "map_osm = folium.Map(location=[56.130366, -106.346771], zoom_start=4, tiles='Stamen Toner')\n",
    "for i in range(cluster_len):\n",
    "    folium.Marker(list((cluster_centers[i][0],cluster_centers[i][1])), popup=(str(cluster_centers[i][0])+str(cluster_centers[i][1])), tooltip = tooltip).add_to(map_osm)\n",
    "map_osm"
   ]
  },
  {
   "cell_type": "markdown",
   "metadata": {},
   "source": [
    "Saving the clinic file with 2 clusters:"
   ]
  },
  {
   "cell_type": "code",
   "execution_count": 203,
   "metadata": {},
   "outputs": [
    {
     "data": {
      "text/html": [
       "<div>\n",
       "<style scoped>\n",
       "    .dataframe tbody tr th:only-of-type {\n",
       "        vertical-align: middle;\n",
       "    }\n",
       "\n",
       "    .dataframe tbody tr th {\n",
       "        vertical-align: top;\n",
       "    }\n",
       "\n",
       "    .dataframe thead th {\n",
       "        text-align: right;\n",
       "    }\n",
       "</style>\n",
       "<table border=\"1\" class=\"dataframe\">\n",
       "  <thead>\n",
       "    <tr style=\"text-align: right;\">\n",
       "      <th></th>\n",
       "      <th>Unnamed: 0</th>\n",
       "      <th>Clinic ID</th>\n",
       "      <th>Clinic Name</th>\n",
       "      <th>Clinic Address</th>\n",
       "      <th>Postal Code</th>\n",
       "      <th>FSA</th>\n",
       "      <th>Clinic City</th>\n",
       "      <th>Province</th>\n",
       "      <th>Geocode_Feat_Lat</th>\n",
       "      <th>Geocode_Feat_Long</th>\n",
       "      <th>Cluster_ID</th>\n",
       "      <th>Cluster_Geolocation</th>\n",
       "    </tr>\n",
       "  </thead>\n",
       "  <tbody>\n",
       "    <tr>\n",
       "      <th>0</th>\n",
       "      <td>0</td>\n",
       "      <td>1</td>\n",
       "      <td>Clinic 1</td>\n",
       "      <td>8308 114 St Nw Suite 2020</td>\n",
       "      <td>T6G 2V2</td>\n",
       "      <td>T6G</td>\n",
       "      <td>Edmonton</td>\n",
       "      <td>AB</td>\n",
       "      <td>53.522712</td>\n",
       "      <td>-113.523478</td>\n",
       "      <td>0</td>\n",
       "      <td>[  50.64415361 -114.66190858]</td>\n",
       "    </tr>\n",
       "    <tr>\n",
       "      <th>1</th>\n",
       "      <td>1</td>\n",
       "      <td>2</td>\n",
       "      <td>Clinic 2</td>\n",
       "      <td>3480 Lawrence Ave E Unit 5</td>\n",
       "      <td>M1H 1A9</td>\n",
       "      <td>M1H</td>\n",
       "      <td>Scarborough</td>\n",
       "      <td>ON</td>\n",
       "      <td>37.260291</td>\n",
       "      <td>-60.735250</td>\n",
       "      <td>1</td>\n",
       "      <td>[ 44.15332234 -77.8656788 ]</td>\n",
       "    </tr>\n",
       "  </tbody>\n",
       "</table>\n",
       "</div>"
      ],
      "text/plain": [
       "   Unnamed: 0  Clinic ID Clinic Name              Clinic Address Postal Code  \\\n",
       "0           0          1    Clinic 1   8308 114 St Nw Suite 2020     T6G 2V2   \n",
       "1           1          2    Clinic 2  3480 Lawrence Ave E Unit 5     M1H 1A9   \n",
       "\n",
       "   FSA  Clinic City Province  Geocode_Feat_Lat  Geocode_Feat_Long  Cluster_ID  \\\n",
       "0  T6G     Edmonton       AB         53.522712        -113.523478           0   \n",
       "1  M1H  Scarborough       ON         37.260291         -60.735250           1   \n",
       "\n",
       "             Cluster_Geolocation  \n",
       "0  [  50.64415361 -114.66190858]  \n",
       "1    [ 44.15332234 -77.8656788 ]  "
      ]
     },
     "execution_count": 203,
     "metadata": {},
     "output_type": "execute_result"
    }
   ],
   "source": [
    "clinic_df.to_csv(r'C:\\Users\\NamrataT\\Desktop\\Project\\Patient_Clinic_Proximity\\clinic_processed.csv')\n",
    "clinic_processed_df = pd.read_csv(r'C:\\Users\\NamrataT\\Desktop\\Project\\Patient_Clinic_Proximity\\clinic_processed.csv')\n",
    "clinic_processed_df.head(2)"
   ]
  },
  {
   "cell_type": "markdown",
   "metadata": {},
   "source": [
    "#### Three Clusters:"
   ]
  },
  {
   "cell_type": "code",
   "execution_count": 285,
   "metadata": {},
   "outputs": [
    {
     "name": "stdout",
     "output_type": "stream",
     "text": [
      "Best Inertia :  2950.0453451558915\n",
      "Cluster Labels : [2 1 2 1 1 1 2 1 1 1 1 1 2 0 1 1 1 1 1 1 1 1 1 1 1 1 1 1 1 1 0 1 1 1 1 1 1\n",
      " 1 2 2 2 2 2 2 2 2 2 2 2 2 2 2 2 2 1 1 2 2 2 2 2 2 2 1 0 0 2 2 1 1 2 2 2 2\n",
      " 2 2 2 1 2 0 1 2 1 0 2 1 2 2 1 1 2 1 2 1 1 1 2 1 1 1]\n"
     ]
    }
   ],
   "source": [
    "km_test = KMeans(n_clusters = 3, random_state=0)   \n",
    "km_test.fit(geocode_df)\n",
    "print('Best Inertia : ',km_test.inertia_)    \n",
    "print('Cluster Labels :',km_test.labels_)"
   ]
  },
  {
   "cell_type": "code",
   "execution_count": 286,
   "metadata": {},
   "outputs": [],
   "source": [
    "labels = km_test.labels_\n",
    "clinic_df['Cluster_ID'] = labels"
   ]
  },
  {
   "cell_type": "code",
   "execution_count": 287,
   "metadata": {},
   "outputs": [
    {
     "name": "stdout",
     "output_type": "stream",
     "text": [
      "Cluster Centres for 3 clusters : \n",
      " [[  44.03196018  -97.15300308]\n",
      " [  44.92046368  -76.95302629]\n",
      " [  51.2746002  -115.3808408 ]]\n"
     ]
    }
   ],
   "source": [
    "cluster_centers = km_test.cluster_centers_\n",
    "print('Cluster Centres for 3 clusters : \\n',cluster_centers)"
   ]
  },
  {
   "cell_type": "code",
   "execution_count": 288,
   "metadata": {},
   "outputs": [
    {
     "name": "stdout",
     "output_type": "stream",
     "text": [
      "Silhouette Score For 3 Clusters :  0.7118311069251131\n"
     ]
    }
   ],
   "source": [
    "from sklearn import metrics\n",
    "silhouette_score_cluster3 = metrics.silhouette_score(geocode_df,labels)\n",
    "print('Silhouette Score For 3 Clusters : ',silhouette_score_cluster3)"
   ]
  },
  {
   "cell_type": "code",
   "execution_count": 289,
   "metadata": {},
   "outputs": [],
   "source": [
    "def assign_centroids_3(cluster_id):\n",
    "    if cluster_id == 0:\n",
    "        return cluster_centers[0]\n",
    "    elif cluster_id == 1:\n",
    "        return cluster_centers[1]\n",
    "    else:\n",
    "        return cluster_centers[2]"
   ]
  },
  {
   "cell_type": "code",
   "execution_count": 276,
   "metadata": {},
   "outputs": [],
   "source": [
    "clinic_df['Cluster_Geolocation'] = clinic_df['Cluster_ID'].apply(assign_centroids_3)"
   ]
  },
  {
   "cell_type": "code",
   "execution_count": 277,
   "metadata": {},
   "outputs": [
    {
     "data": {
      "text/html": [
       "<div>\n",
       "<style scoped>\n",
       "    .dataframe tbody tr th:only-of-type {\n",
       "        vertical-align: middle;\n",
       "    }\n",
       "\n",
       "    .dataframe tbody tr th {\n",
       "        vertical-align: top;\n",
       "    }\n",
       "\n",
       "    .dataframe thead th {\n",
       "        text-align: right;\n",
       "    }\n",
       "</style>\n",
       "<table border=\"1\" class=\"dataframe\">\n",
       "  <thead>\n",
       "    <tr style=\"text-align: right;\">\n",
       "      <th></th>\n",
       "      <th>Clinic ID</th>\n",
       "      <th>Clinic Name</th>\n",
       "      <th>Clinic Address</th>\n",
       "      <th>Postal Code</th>\n",
       "      <th>FSA</th>\n",
       "      <th>Clinic City</th>\n",
       "      <th>Province</th>\n",
       "      <th>Geocode_Feat_Lat</th>\n",
       "      <th>Geocode_Feat_Long</th>\n",
       "      <th>Cluster_ID</th>\n",
       "      <th>Cluster_Geolocation</th>\n",
       "    </tr>\n",
       "  </thead>\n",
       "  <tbody>\n",
       "    <tr>\n",
       "      <th>0</th>\n",
       "      <td>1</td>\n",
       "      <td>Clinic 1</td>\n",
       "      <td>8308 114 St Nw Suite 2020</td>\n",
       "      <td>T6G 2V2</td>\n",
       "      <td>T6G</td>\n",
       "      <td>Edmonton</td>\n",
       "      <td>AB</td>\n",
       "      <td>53.522712</td>\n",
       "      <td>-113.523478</td>\n",
       "      <td>2</td>\n",
       "      <td>[51.274600204636585, -115.38084079964865]</td>\n",
       "    </tr>\n",
       "    <tr>\n",
       "      <th>1</th>\n",
       "      <td>2</td>\n",
       "      <td>Clinic 2</td>\n",
       "      <td>3480 Lawrence Ave E Unit 5</td>\n",
       "      <td>M1H 1A9</td>\n",
       "      <td>M1H</td>\n",
       "      <td>Scarborough</td>\n",
       "      <td>ON</td>\n",
       "      <td>37.260291</td>\n",
       "      <td>-60.735250</td>\n",
       "      <td>1</td>\n",
       "      <td>[44.920463684805846, -76.95302628975575]</td>\n",
       "    </tr>\n",
       "    <tr>\n",
       "      <th>2</th>\n",
       "      <td>3</td>\n",
       "      <td>Clinic 3</td>\n",
       "      <td>4715 8 Ave Se</td>\n",
       "      <td>T2A 3N4</td>\n",
       "      <td>T2A</td>\n",
       "      <td>Calgary</td>\n",
       "      <td>AB</td>\n",
       "      <td>51.044900</td>\n",
       "      <td>-113.967219</td>\n",
       "      <td>2</td>\n",
       "      <td>[51.274600204636585, -115.38084079964865]</td>\n",
       "    </tr>\n",
       "    <tr>\n",
       "      <th>3</th>\n",
       "      <td>4</td>\n",
       "      <td>Clinic 4</td>\n",
       "      <td>234 Dovedale Drive</td>\n",
       "      <td>L4P 0H3</td>\n",
       "      <td>L4P</td>\n",
       "      <td>Keswick</td>\n",
       "      <td>ON</td>\n",
       "      <td>43.881407</td>\n",
       "      <td>-78.926401</td>\n",
       "      <td>1</td>\n",
       "      <td>[44.920463684805846, -76.95302628975575]</td>\n",
       "    </tr>\n",
       "    <tr>\n",
       "      <th>4</th>\n",
       "      <td>5</td>\n",
       "      <td>Clinic 5</td>\n",
       "      <td>3968 Rue Notre-Dame O Etage 2E</td>\n",
       "      <td>H4C 1R1</td>\n",
       "      <td>H4C</td>\n",
       "      <td>Montreal</td>\n",
       "      <td>QC</td>\n",
       "      <td>45.477898</td>\n",
       "      <td>-73.583652</td>\n",
       "      <td>1</td>\n",
       "      <td>[44.920463684805846, -76.95302628975575]</td>\n",
       "    </tr>\n",
       "    <tr>\n",
       "      <th>5</th>\n",
       "      <td>6</td>\n",
       "      <td>Clinic 6</td>\n",
       "      <td>3400 Rue Du Marche Bureau 203</td>\n",
       "      <td>H9B 2Y1</td>\n",
       "      <td>H9B</td>\n",
       "      <td>Dollard-Des-Ormeaux</td>\n",
       "      <td>QC</td>\n",
       "      <td>47.444415</td>\n",
       "      <td>-73.816666</td>\n",
       "      <td>1</td>\n",
       "      <td>[44.920463684805846, -76.95302628975575]</td>\n",
       "    </tr>\n",
       "    <tr>\n",
       "      <th>6</th>\n",
       "      <td>7</td>\n",
       "      <td>Clinic 7</td>\n",
       "      <td>1441 29 St Nw</td>\n",
       "      <td>T2N 4J8</td>\n",
       "      <td>T2N</td>\n",
       "      <td>Calgary</td>\n",
       "      <td>AB</td>\n",
       "      <td>51.065033</td>\n",
       "      <td>-114.130437</td>\n",
       "      <td>2</td>\n",
       "      <td>[51.274600204636585, -115.38084079964865]</td>\n",
       "    </tr>\n",
       "    <tr>\n",
       "      <th>7</th>\n",
       "      <td>8</td>\n",
       "      <td>Clinic 8</td>\n",
       "      <td>910 Rue Labelle</td>\n",
       "      <td>J7Z 5M5</td>\n",
       "      <td>J7Z</td>\n",
       "      <td>Saint-Jerome</td>\n",
       "      <td>QC</td>\n",
       "      <td>45.788776</td>\n",
       "      <td>-74.005892</td>\n",
       "      <td>1</td>\n",
       "      <td>[44.920463684805846, -76.95302628975575]</td>\n",
       "    </tr>\n",
       "    <tr>\n",
       "      <th>8</th>\n",
       "      <td>9</td>\n",
       "      <td>Clinic 9</td>\n",
       "      <td>32 Rue De La Reserve</td>\n",
       "      <td>G0T 1K0</td>\n",
       "      <td>G0T</td>\n",
       "      <td>Essipit</td>\n",
       "      <td>QC</td>\n",
       "      <td>48.342951</td>\n",
       "      <td>-69.398543</td>\n",
       "      <td>1</td>\n",
       "      <td>[44.920463684805846, -76.95302628975575]</td>\n",
       "    </tr>\n",
       "    <tr>\n",
       "      <th>9</th>\n",
       "      <td>10</td>\n",
       "      <td>Clinic 10</td>\n",
       "      <td>1615 Boul Jacques-Cartier E Bureau 200</td>\n",
       "      <td>J4M 2X1</td>\n",
       "      <td>J4M</td>\n",
       "      <td>Longueuil</td>\n",
       "      <td>QC</td>\n",
       "      <td>45.517238</td>\n",
       "      <td>-73.446747</td>\n",
       "      <td>1</td>\n",
       "      <td>[44.920463684805846, -76.95302628975575]</td>\n",
       "    </tr>\n",
       "  </tbody>\n",
       "</table>\n",
       "</div>"
      ],
      "text/plain": [
       "   Clinic ID Clinic Name                          Clinic Address Postal Code  \\\n",
       "0          1    Clinic 1               8308 114 St Nw Suite 2020     T6G 2V2   \n",
       "1          2    Clinic 2              3480 Lawrence Ave E Unit 5     M1H 1A9   \n",
       "2          3    Clinic 3                           4715 8 Ave Se     T2A 3N4   \n",
       "3          4    Clinic 4                      234 Dovedale Drive     L4P 0H3   \n",
       "4          5    Clinic 5          3968 Rue Notre-Dame O Etage 2E     H4C 1R1   \n",
       "5          6    Clinic 6           3400 Rue Du Marche Bureau 203     H9B 2Y1   \n",
       "6          7    Clinic 7                           1441 29 St Nw     T2N 4J8   \n",
       "7          8    Clinic 8                         910 Rue Labelle     J7Z 5M5   \n",
       "8          9    Clinic 9                    32 Rue De La Reserve     G0T 1K0   \n",
       "9         10   Clinic 10  1615 Boul Jacques-Cartier E Bureau 200     J4M 2X1   \n",
       "\n",
       "   FSA          Clinic City Province  Geocode_Feat_Lat  Geocode_Feat_Long  \\\n",
       "0  T6G             Edmonton       AB         53.522712        -113.523478   \n",
       "1  M1H          Scarborough       ON         37.260291         -60.735250   \n",
       "2  T2A              Calgary       AB         51.044900        -113.967219   \n",
       "3  L4P              Keswick       ON         43.881407         -78.926401   \n",
       "4  H4C             Montreal       QC         45.477898         -73.583652   \n",
       "5  H9B  Dollard-Des-Ormeaux       QC         47.444415         -73.816666   \n",
       "6  T2N              Calgary       AB         51.065033        -114.130437   \n",
       "7  J7Z         Saint-Jerome       QC         45.788776         -74.005892   \n",
       "8  G0T              Essipit       QC         48.342951         -69.398543   \n",
       "9  J4M            Longueuil       QC         45.517238         -73.446747   \n",
       "\n",
       "   Cluster_ID                        Cluster_Geolocation  \n",
       "0           2  [51.274600204636585, -115.38084079964865]  \n",
       "1           1   [44.920463684805846, -76.95302628975575]  \n",
       "2           2  [51.274600204636585, -115.38084079964865]  \n",
       "3           1   [44.920463684805846, -76.95302628975575]  \n",
       "4           1   [44.920463684805846, -76.95302628975575]  \n",
       "5           1   [44.920463684805846, -76.95302628975575]  \n",
       "6           2  [51.274600204636585, -115.38084079964865]  \n",
       "7           1   [44.920463684805846, -76.95302628975575]  \n",
       "8           1   [44.920463684805846, -76.95302628975575]  \n",
       "9           1   [44.920463684805846, -76.95302628975575]  "
      ]
     },
     "execution_count": 277,
     "metadata": {},
     "output_type": "execute_result"
    }
   ],
   "source": [
    "clinic_df.head(10)"
   ]
  },
  {
   "cell_type": "markdown",
   "metadata": {},
   "source": [
    "##### Three Clusters Visualisation:"
   ]
  },
  {
   "cell_type": "code",
   "execution_count": 278,
   "metadata": {},
   "outputs": [
    {
     "data": {
      "text/html": [
       "<div style=\"width:100%;\"><div style=\"position:relative;width:100%;height:0;padding-bottom:60%;\"><span style=\"color:#565656\">Make this Notebook Trusted to load map: File -> Trust Notebook</span><iframe src=\"about:blank\" style=\"position:absolute;width:100%;height:100%;left:0;top:0;border:none !important;\" data-html=%3C%21DOCTYPE%20html%3E%0A%3Chead%3E%20%20%20%20%0A%20%20%20%20%3Cmeta%20http-equiv%3D%22content-type%22%20content%3D%22text/html%3B%20charset%3DUTF-8%22%20/%3E%0A%20%20%20%20%0A%20%20%20%20%20%20%20%20%3Cscript%3E%0A%20%20%20%20%20%20%20%20%20%20%20%20L_NO_TOUCH%20%3D%20false%3B%0A%20%20%20%20%20%20%20%20%20%20%20%20L_DISABLE_3D%20%3D%20false%3B%0A%20%20%20%20%20%20%20%20%3C/script%3E%0A%20%20%20%20%0A%20%20%20%20%3Cstyle%3Ehtml%2C%20body%20%7Bwidth%3A%20100%25%3Bheight%3A%20100%25%3Bmargin%3A%200%3Bpadding%3A%200%3B%7D%3C/style%3E%0A%20%20%20%20%3Cstyle%3E%23map%20%7Bposition%3Aabsolute%3Btop%3A0%3Bbottom%3A0%3Bright%3A0%3Bleft%3A0%3B%7D%3C/style%3E%0A%20%20%20%20%3Cscript%20src%3D%22https%3A//cdn.jsdelivr.net/npm/leaflet%401.6.0/dist/leaflet.js%22%3E%3C/script%3E%0A%20%20%20%20%3Cscript%20src%3D%22https%3A//code.jquery.com/jquery-1.12.4.min.js%22%3E%3C/script%3E%0A%20%20%20%20%3Cscript%20src%3D%22https%3A//maxcdn.bootstrapcdn.com/bootstrap/3.2.0/js/bootstrap.min.js%22%3E%3C/script%3E%0A%20%20%20%20%3Cscript%20src%3D%22https%3A//cdnjs.cloudflare.com/ajax/libs/Leaflet.awesome-markers/2.0.2/leaflet.awesome-markers.js%22%3E%3C/script%3E%0A%20%20%20%20%3Clink%20rel%3D%22stylesheet%22%20href%3D%22https%3A//cdn.jsdelivr.net/npm/leaflet%401.6.0/dist/leaflet.css%22/%3E%0A%20%20%20%20%3Clink%20rel%3D%22stylesheet%22%20href%3D%22https%3A//maxcdn.bootstrapcdn.com/bootstrap/3.2.0/css/bootstrap.min.css%22/%3E%0A%20%20%20%20%3Clink%20rel%3D%22stylesheet%22%20href%3D%22https%3A//maxcdn.bootstrapcdn.com/bootstrap/3.2.0/css/bootstrap-theme.min.css%22/%3E%0A%20%20%20%20%3Clink%20rel%3D%22stylesheet%22%20href%3D%22https%3A//maxcdn.bootstrapcdn.com/font-awesome/4.6.3/css/font-awesome.min.css%22/%3E%0A%20%20%20%20%3Clink%20rel%3D%22stylesheet%22%20href%3D%22https%3A//cdnjs.cloudflare.com/ajax/libs/Leaflet.awesome-markers/2.0.2/leaflet.awesome-markers.css%22/%3E%0A%20%20%20%20%3Clink%20rel%3D%22stylesheet%22%20href%3D%22https%3A//cdn.jsdelivr.net/gh/python-visualization/folium/folium/templates/leaflet.awesome.rotate.min.css%22/%3E%0A%20%20%20%20%0A%20%20%20%20%20%20%20%20%20%20%20%20%3Cmeta%20name%3D%22viewport%22%20content%3D%22width%3Ddevice-width%2C%0A%20%20%20%20%20%20%20%20%20%20%20%20%20%20%20%20initial-scale%3D1.0%2C%20maximum-scale%3D1.0%2C%20user-scalable%3Dno%22%20/%3E%0A%20%20%20%20%20%20%20%20%20%20%20%20%3Cstyle%3E%0A%20%20%20%20%20%20%20%20%20%20%20%20%20%20%20%20%23map_1beb4d4d75e24501bea5a3c1900d883d%20%7B%0A%20%20%20%20%20%20%20%20%20%20%20%20%20%20%20%20%20%20%20%20position%3A%20relative%3B%0A%20%20%20%20%20%20%20%20%20%20%20%20%20%20%20%20%20%20%20%20width%3A%20100.0%25%3B%0A%20%20%20%20%20%20%20%20%20%20%20%20%20%20%20%20%20%20%20%20height%3A%20100.0%25%3B%0A%20%20%20%20%20%20%20%20%20%20%20%20%20%20%20%20%20%20%20%20left%3A%200.0%25%3B%0A%20%20%20%20%20%20%20%20%20%20%20%20%20%20%20%20%20%20%20%20top%3A%200.0%25%3B%0A%20%20%20%20%20%20%20%20%20%20%20%20%20%20%20%20%7D%0A%20%20%20%20%20%20%20%20%20%20%20%20%3C/style%3E%0A%20%20%20%20%20%20%20%20%0A%3C/head%3E%0A%3Cbody%3E%20%20%20%20%0A%20%20%20%20%0A%20%20%20%20%20%20%20%20%20%20%20%20%3Cdiv%20class%3D%22folium-map%22%20id%3D%22map_1beb4d4d75e24501bea5a3c1900d883d%22%20%3E%3C/div%3E%0A%20%20%20%20%20%20%20%20%0A%3C/body%3E%0A%3Cscript%3E%20%20%20%20%0A%20%20%20%20%0A%20%20%20%20%20%20%20%20%20%20%20%20var%20map_1beb4d4d75e24501bea5a3c1900d883d%20%3D%20L.map%28%0A%20%20%20%20%20%20%20%20%20%20%20%20%20%20%20%20%22map_1beb4d4d75e24501bea5a3c1900d883d%22%2C%0A%20%20%20%20%20%20%20%20%20%20%20%20%20%20%20%20%7B%0A%20%20%20%20%20%20%20%20%20%20%20%20%20%20%20%20%20%20%20%20center%3A%20%5B56.130366%2C%20-106.346771%5D%2C%0A%20%20%20%20%20%20%20%20%20%20%20%20%20%20%20%20%20%20%20%20crs%3A%20L.CRS.EPSG3857%2C%0A%20%20%20%20%20%20%20%20%20%20%20%20%20%20%20%20%20%20%20%20zoom%3A%204%2C%0A%20%20%20%20%20%20%20%20%20%20%20%20%20%20%20%20%20%20%20%20zoomControl%3A%20true%2C%0A%20%20%20%20%20%20%20%20%20%20%20%20%20%20%20%20%20%20%20%20preferCanvas%3A%20false%2C%0A%20%20%20%20%20%20%20%20%20%20%20%20%20%20%20%20%7D%0A%20%20%20%20%20%20%20%20%20%20%20%20%29%3B%0A%0A%20%20%20%20%20%20%20%20%20%20%20%20%0A%0A%20%20%20%20%20%20%20%20%0A%20%20%20%20%0A%20%20%20%20%20%20%20%20%20%20%20%20var%20tile_layer_3056ec82aa1d43f188f6441123791b92%20%3D%20L.tileLayer%28%0A%20%20%20%20%20%20%20%20%20%20%20%20%20%20%20%20%22https%3A//stamen-tiles-%7Bs%7D.a.ssl.fastly.net/toner/%7Bz%7D/%7Bx%7D/%7By%7D.png%22%2C%0A%20%20%20%20%20%20%20%20%20%20%20%20%20%20%20%20%7B%22attribution%22%3A%20%22Map%20tiles%20by%20%5Cu003ca%20href%3D%5C%22http%3A//stamen.com%5C%22%5Cu003eStamen%20Design%5Cu003c/a%5Cu003e%2C%20under%20%5Cu003ca%20href%3D%5C%22http%3A//creativecommons.org/licenses/by/3.0%5C%22%5Cu003eCC%20BY%203.0%5Cu003c/a%5Cu003e.%20Data%20by%20%5Cu0026copy%3B%20%5Cu003ca%20href%3D%5C%22http%3A//openstreetmap.org%5C%22%5Cu003eOpenStreetMap%5Cu003c/a%5Cu003e%2C%20under%20%5Cu003ca%20href%3D%5C%22http%3A//www.openstreetmap.org/copyright%5C%22%5Cu003eODbL%5Cu003c/a%5Cu003e.%22%2C%20%22detectRetina%22%3A%20false%2C%20%22maxNativeZoom%22%3A%2018%2C%20%22maxZoom%22%3A%2018%2C%20%22minZoom%22%3A%200%2C%20%22noWrap%22%3A%20false%2C%20%22opacity%22%3A%201%2C%20%22subdomains%22%3A%20%22abc%22%2C%20%22tms%22%3A%20false%7D%0A%20%20%20%20%20%20%20%20%20%20%20%20%29.addTo%28map_1beb4d4d75e24501bea5a3c1900d883d%29%3B%0A%20%20%20%20%20%20%20%20%0A%20%20%20%20%0A%20%20%20%20%20%20%20%20%20%20%20%20var%20marker_3c304968e6fb450ba2816f2ed3e86f9d%20%3D%20L.marker%28%0A%20%20%20%20%20%20%20%20%20%20%20%20%20%20%20%20%5B44.03196017733735%2C%20-97.15300307684346%5D%2C%0A%20%20%20%20%20%20%20%20%20%20%20%20%20%20%20%20%7B%7D%0A%20%20%20%20%20%20%20%20%20%20%20%20%29.addTo%28map_1beb4d4d75e24501bea5a3c1900d883d%29%3B%0A%20%20%20%20%20%20%20%20%0A%20%20%20%20%0A%20%20%20%20%20%20%20%20var%20popup_97c6514a86e94649bb523b0646bc2ea3%20%3D%20L.popup%28%7B%22maxWidth%22%3A%20%22100%25%22%7D%29%3B%0A%0A%20%20%20%20%20%20%20%20%0A%20%20%20%20%20%20%20%20%20%20%20%20var%20html_6974c253207840d99651fcd23234b5a2%20%3D%20%24%28%60%3Cdiv%20id%3D%22html_6974c253207840d99651fcd23234b5a2%22%20style%3D%22width%3A%20100.0%25%3B%20height%3A%20100.0%25%3B%22%3E44.03196017733735-97.15300307684346%3C/div%3E%60%29%5B0%5D%3B%0A%20%20%20%20%20%20%20%20%20%20%20%20popup_97c6514a86e94649bb523b0646bc2ea3.setContent%28html_6974c253207840d99651fcd23234b5a2%29%3B%0A%20%20%20%20%20%20%20%20%0A%0A%20%20%20%20%20%20%20%20marker_3c304968e6fb450ba2816f2ed3e86f9d.bindPopup%28popup_97c6514a86e94649bb523b0646bc2ea3%29%0A%20%20%20%20%20%20%20%20%3B%0A%0A%20%20%20%20%20%20%20%20%0A%20%20%20%20%0A%20%20%20%20%0A%20%20%20%20%20%20%20%20%20%20%20%20marker_3c304968e6fb450ba2816f2ed3e86f9d.bindTooltip%28%0A%20%20%20%20%20%20%20%20%20%20%20%20%20%20%20%20%60%3Cdiv%3E%0A%20%20%20%20%20%20%20%20%20%20%20%20%20%20%20%20%20%20%20%20%20Click%20Me%21%21%0A%20%20%20%20%20%20%20%20%20%20%20%20%20%20%20%20%20%3C/div%3E%60%2C%0A%20%20%20%20%20%20%20%20%20%20%20%20%20%20%20%20%7B%22sticky%22%3A%20true%7D%0A%20%20%20%20%20%20%20%20%20%20%20%20%29%3B%0A%20%20%20%20%20%20%20%20%0A%20%20%20%20%0A%20%20%20%20%20%20%20%20%20%20%20%20var%20marker_a22184ae8c2a41be8705cad7cb975796%20%3D%20L.marker%28%0A%20%20%20%20%20%20%20%20%20%20%20%20%20%20%20%20%5B44.920463684805846%2C%20-76.95302628975575%5D%2C%0A%20%20%20%20%20%20%20%20%20%20%20%20%20%20%20%20%7B%7D%0A%20%20%20%20%20%20%20%20%20%20%20%20%29.addTo%28map_1beb4d4d75e24501bea5a3c1900d883d%29%3B%0A%20%20%20%20%20%20%20%20%0A%20%20%20%20%0A%20%20%20%20%20%20%20%20var%20popup_52a51fa1bb484636b2193ddf49a157d4%20%3D%20L.popup%28%7B%22maxWidth%22%3A%20%22100%25%22%7D%29%3B%0A%0A%20%20%20%20%20%20%20%20%0A%20%20%20%20%20%20%20%20%20%20%20%20var%20html_22c2a815fd17414983560a73f3ae0dc6%20%3D%20%24%28%60%3Cdiv%20id%3D%22html_22c2a815fd17414983560a73f3ae0dc6%22%20style%3D%22width%3A%20100.0%25%3B%20height%3A%20100.0%25%3B%22%3E44.920463684805846-76.95302628975575%3C/div%3E%60%29%5B0%5D%3B%0A%20%20%20%20%20%20%20%20%20%20%20%20popup_52a51fa1bb484636b2193ddf49a157d4.setContent%28html_22c2a815fd17414983560a73f3ae0dc6%29%3B%0A%20%20%20%20%20%20%20%20%0A%0A%20%20%20%20%20%20%20%20marker_a22184ae8c2a41be8705cad7cb975796.bindPopup%28popup_52a51fa1bb484636b2193ddf49a157d4%29%0A%20%20%20%20%20%20%20%20%3B%0A%0A%20%20%20%20%20%20%20%20%0A%20%20%20%20%0A%20%20%20%20%0A%20%20%20%20%20%20%20%20%20%20%20%20marker_a22184ae8c2a41be8705cad7cb975796.bindTooltip%28%0A%20%20%20%20%20%20%20%20%20%20%20%20%20%20%20%20%60%3Cdiv%3E%0A%20%20%20%20%20%20%20%20%20%20%20%20%20%20%20%20%20%20%20%20%20Click%20Me%21%21%0A%20%20%20%20%20%20%20%20%20%20%20%20%20%20%20%20%20%3C/div%3E%60%2C%0A%20%20%20%20%20%20%20%20%20%20%20%20%20%20%20%20%7B%22sticky%22%3A%20true%7D%0A%20%20%20%20%20%20%20%20%20%20%20%20%29%3B%0A%20%20%20%20%20%20%20%20%0A%20%20%20%20%0A%20%20%20%20%20%20%20%20%20%20%20%20var%20marker_04e29b53a9a34a4bbeb0bbbbae211dac%20%3D%20L.marker%28%0A%20%20%20%20%20%20%20%20%20%20%20%20%20%20%20%20%5B51.274600204636585%2C%20-115.38084079964865%5D%2C%0A%20%20%20%20%20%20%20%20%20%20%20%20%20%20%20%20%7B%7D%0A%20%20%20%20%20%20%20%20%20%20%20%20%29.addTo%28map_1beb4d4d75e24501bea5a3c1900d883d%29%3B%0A%20%20%20%20%20%20%20%20%0A%20%20%20%20%0A%20%20%20%20%20%20%20%20var%20popup_47ac64ec7081470cb345ccaffdb1c5d5%20%3D%20L.popup%28%7B%22maxWidth%22%3A%20%22100%25%22%7D%29%3B%0A%0A%20%20%20%20%20%20%20%20%0A%20%20%20%20%20%20%20%20%20%20%20%20var%20html_436ca4fdc53542a8899923da4cf2db94%20%3D%20%24%28%60%3Cdiv%20id%3D%22html_436ca4fdc53542a8899923da4cf2db94%22%20style%3D%22width%3A%20100.0%25%3B%20height%3A%20100.0%25%3B%22%3E51.274600204636585-115.38084079964865%3C/div%3E%60%29%5B0%5D%3B%0A%20%20%20%20%20%20%20%20%20%20%20%20popup_47ac64ec7081470cb345ccaffdb1c5d5.setContent%28html_436ca4fdc53542a8899923da4cf2db94%29%3B%0A%20%20%20%20%20%20%20%20%0A%0A%20%20%20%20%20%20%20%20marker_04e29b53a9a34a4bbeb0bbbbae211dac.bindPopup%28popup_47ac64ec7081470cb345ccaffdb1c5d5%29%0A%20%20%20%20%20%20%20%20%3B%0A%0A%20%20%20%20%20%20%20%20%0A%20%20%20%20%0A%20%20%20%20%0A%20%20%20%20%20%20%20%20%20%20%20%20marker_04e29b53a9a34a4bbeb0bbbbae211dac.bindTooltip%28%0A%20%20%20%20%20%20%20%20%20%20%20%20%20%20%20%20%60%3Cdiv%3E%0A%20%20%20%20%20%20%20%20%20%20%20%20%20%20%20%20%20%20%20%20%20Click%20Me%21%21%0A%20%20%20%20%20%20%20%20%20%20%20%20%20%20%20%20%20%3C/div%3E%60%2C%0A%20%20%20%20%20%20%20%20%20%20%20%20%20%20%20%20%7B%22sticky%22%3A%20true%7D%0A%20%20%20%20%20%20%20%20%20%20%20%20%29%3B%0A%20%20%20%20%20%20%20%20%0A%3C/script%3E onload=\"this.contentDocument.open();this.contentDocument.write(    decodeURIComponent(this.getAttribute('data-html')));this.contentDocument.close();\" allowfullscreen webkitallowfullscreen mozallowfullscreen></iframe></div></div>"
      ],
      "text/plain": [
       "<folium.folium.Map at 0x1ab6c9ab748>"
      ]
     },
     "execution_count": 278,
     "metadata": {},
     "output_type": "execute_result"
    }
   ],
   "source": [
    "# Plotting the cluster centers on OSM\n",
    "cluster_centers = km_test.cluster_centers_\n",
    "cluster_len = len(cluster_centers)\n",
    "tooltip = 'Click Me!!'\n",
    "map_osm = folium.Map(location=[56.130366, -106.346771], zoom_start=4, tiles='Stamen Toner')\n",
    "for i in range(cluster_len):\n",
    "    folium.Marker(list((cluster_centers[i][0],cluster_centers[i][1])), popup=(str(cluster_centers[i][0])+str(cluster_centers[i][1])), tooltip = tooltip).add_to(map_osm)\n",
    "map_osm"
   ]
  },
  {
   "cell_type": "markdown",
   "metadata": {},
   "source": [
    "Saving the clinic file with 3 clusters:"
   ]
  },
  {
   "cell_type": "code",
   "execution_count": 279,
   "metadata": {},
   "outputs": [
    {
     "data": {
      "text/html": [
       "<div>\n",
       "<style scoped>\n",
       "    .dataframe tbody tr th:only-of-type {\n",
       "        vertical-align: middle;\n",
       "    }\n",
       "\n",
       "    .dataframe tbody tr th {\n",
       "        vertical-align: top;\n",
       "    }\n",
       "\n",
       "    .dataframe thead th {\n",
       "        text-align: right;\n",
       "    }\n",
       "</style>\n",
       "<table border=\"1\" class=\"dataframe\">\n",
       "  <thead>\n",
       "    <tr style=\"text-align: right;\">\n",
       "      <th></th>\n",
       "      <th>Unnamed: 0</th>\n",
       "      <th>Clinic ID</th>\n",
       "      <th>Clinic Name</th>\n",
       "      <th>Clinic Address</th>\n",
       "      <th>Postal Code</th>\n",
       "      <th>FSA</th>\n",
       "      <th>Clinic City</th>\n",
       "      <th>Province</th>\n",
       "      <th>Geocode_Feat_Lat</th>\n",
       "      <th>Geocode_Feat_Long</th>\n",
       "      <th>Cluster_ID</th>\n",
       "      <th>Cluster_Geolocation</th>\n",
       "    </tr>\n",
       "  </thead>\n",
       "  <tbody>\n",
       "    <tr>\n",
       "      <th>0</th>\n",
       "      <td>0</td>\n",
       "      <td>1</td>\n",
       "      <td>Clinic 1</td>\n",
       "      <td>8308 114 St Nw Suite 2020</td>\n",
       "      <td>T6G 2V2</td>\n",
       "      <td>T6G</td>\n",
       "      <td>Edmonton</td>\n",
       "      <td>AB</td>\n",
       "      <td>53.522712</td>\n",
       "      <td>-113.523478</td>\n",
       "      <td>2</td>\n",
       "      <td>[  51.2746002 -115.3808408]</td>\n",
       "    </tr>\n",
       "    <tr>\n",
       "      <th>1</th>\n",
       "      <td>1</td>\n",
       "      <td>2</td>\n",
       "      <td>Clinic 2</td>\n",
       "      <td>3480 Lawrence Ave E Unit 5</td>\n",
       "      <td>M1H 1A9</td>\n",
       "      <td>M1H</td>\n",
       "      <td>Scarborough</td>\n",
       "      <td>ON</td>\n",
       "      <td>37.260291</td>\n",
       "      <td>-60.735250</td>\n",
       "      <td>1</td>\n",
       "      <td>[ 44.92046368 -76.95302629]</td>\n",
       "    </tr>\n",
       "  </tbody>\n",
       "</table>\n",
       "</div>"
      ],
      "text/plain": [
       "   Unnamed: 0  Clinic ID Clinic Name              Clinic Address Postal Code  \\\n",
       "0           0          1    Clinic 1   8308 114 St Nw Suite 2020     T6G 2V2   \n",
       "1           1          2    Clinic 2  3480 Lawrence Ave E Unit 5     M1H 1A9   \n",
       "\n",
       "   FSA  Clinic City Province  Geocode_Feat_Lat  Geocode_Feat_Long  Cluster_ID  \\\n",
       "0  T6G     Edmonton       AB         53.522712        -113.523478           2   \n",
       "1  M1H  Scarborough       ON         37.260291         -60.735250           1   \n",
       "\n",
       "           Cluster_Geolocation  \n",
       "0  [  51.2746002 -115.3808408]  \n",
       "1  [ 44.92046368 -76.95302629]  "
      ]
     },
     "execution_count": 279,
     "metadata": {},
     "output_type": "execute_result"
    }
   ],
   "source": [
    "clinic_df.to_csv(r'C:\\Users\\NamrataT\\Desktop\\Project\\Patient_Clinic_Proximity\\clinic_processed_cluster3.csv')\n",
    "clinic_processed_df = pd.read_csv(r'C:\\Users\\NamrataT\\Desktop\\Project\\Patient_Clinic_Proximity\\clinic_processed_cluster3.csv')\n",
    "clinic_processed_df.head(2)"
   ]
  }
 ],
 "metadata": {
  "kernelspec": {
   "display_name": "Python 3",
   "language": "python",
   "name": "python3"
  },
  "language_info": {
   "codemirror_mode": {
    "name": "ipython",
    "version": 3
   },
   "file_extension": ".py",
   "mimetype": "text/x-python",
   "name": "python",
   "nbconvert_exporter": "python",
   "pygments_lexer": "ipython3",
   "version": "3.6.5"
  }
 },
 "nbformat": 4,
 "nbformat_minor": 2
}
